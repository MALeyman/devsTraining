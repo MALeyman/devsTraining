{
 "cells": [
  {
   "cell_type": "markdown",
   "metadata": {},
   "source": [
    "Автор: Лейман М.А.   \n",
    "Дата создания: 22.03.2025  \n",
    "\n",
    "# Задание ZALA  \n",
    "## 3. Создание видео\n",
    "\n",
    "Создание видеоролика для  применения с обученной моделью"
   ]
  },
  {
   "cell_type": "code",
   "execution_count": 1,
   "metadata": {},
   "outputs": [
    {
     "name": "stdout",
     "output_type": "stream",
     "text": [
      "Видео успешно создано!\n"
     ]
    }
   ],
   "source": [
    "# Движение по кругу\n",
    "import cv2\n",
    "import numpy as np\n",
    "image_path = '/home/maksim/develops/python/devsTraining/zala_task/dataset/dataset_DOTA/dataset_DOTA/timages_to_video/P2612.jpg'  \n",
    "\n",
    "# Загрузить изображение\n",
    "image = cv2.imread(image_path) \n",
    "(h, w) = image.shape[:2]\n",
    "\n",
    "# Размер окна (области просмотра)\n",
    "win_size = 1200  # 300x300 пикселей\n",
    "\n",
    "# Параметры для движения окна\n",
    "step = 5  # Шаг движения (чем меньше, тем плавнее)\n",
    "fps = 30  # Частота кадров\n",
    "num_frames = 700  # Количество кадров\n",
    "\n",
    "# Создание видео\n",
    "output_video_path = \"output5.avi\"\n",
    "fourcc = cv2.VideoWriter_fourcc(*\"XVID\")\n",
    "out = cv2.VideoWriter(output_video_path, fourcc, fps, (win_size, win_size))\n",
    "\n",
    "# Начальные координаты\n",
    "x, y = 0, 0\n",
    "direction = \"right\"\n",
    "\n",
    "# Генерация кадров\n",
    "for _ in range(num_frames):\n",
    "    # Вырезаем окно из изображения\n",
    "    cropped = image[y:y + win_size, x:x + win_size]\n",
    "    \n",
    "    # Убеждаемся, что окно корректного размера\n",
    "    if cropped.shape[:2] == (win_size, win_size):\n",
    "        out.write(cropped)\n",
    "\n",
    "    # Логика движения\n",
    "    if direction == \"right\":\n",
    "        x += step\n",
    "        if x + win_size >= w:\n",
    "            x = w - win_size\n",
    "            direction = \"down\"\n",
    "    elif direction == \"down\":\n",
    "        y += step\n",
    "        if y + win_size >= h:\n",
    "            y = h - win_size\n",
    "            direction = \"left\"\n",
    "    elif direction == \"left\":\n",
    "        x -= step\n",
    "        if x <= 0:\n",
    "            x = 0\n",
    "            direction = \"up\"\n",
    "    elif direction == \"up\":\n",
    "        y -= step\n",
    "        if y <= 0:\n",
    "            y = 0\n",
    "            direction = \"right\"\n",
    "\n",
    "# Закрываем видеофайл\n",
    "out.release()\n",
    "\n",
    "print(\"Видео успешно создано!\")\n"
   ]
  },
  {
   "cell_type": "code",
   "execution_count": null,
   "metadata": {},
   "outputs": [
    {
     "ename": "",
     "evalue": "",
     "output_type": "error",
     "traceback": [
      "\u001b[1;31mThe Kernel crashed while executing code in the current cell or a previous cell. \n",
      "\u001b[1;31mPlease review the code in the cell(s) to identify a possible cause of the failure. \n",
      "\u001b[1;31mClick <a href='https://aka.ms/vscodeJupyterKernelCrash'>here</a> for more info. \n",
      "\u001b[1;31mView Jupyter <a href='command:jupyter.viewOutput'>log</a> for further details."
     ]
    }
   ],
   "source": [
    "# Движение по диагонали\n",
    "import cv2\n",
    "import numpy as np\n",
    "\n",
    "\n",
    "image_path = '/home/maksim/develops/python/devsTraining/zala_task/dataset/dataset_DOTA/dataset_DOTA/timages_to_video/P2612.jpg'  \n",
    "\n",
    "# Загрузить изображение\n",
    "image = cv2.imread(image_path)  #\n",
    "(h, w) = image.shape[:2]\n",
    "\n",
    "# Размер окна (области просмотра)\n",
    "win_size = 1200  # 300x300 пикселей\n",
    "\n",
    "# Параметры для движения окна\n",
    "step = 5 # Шаг движения\n",
    "fps = 30  # Частота кадров\n",
    "num_frames = 700  # Количество кадров\n",
    "\n",
    "# Создание видео\n",
    "output_video_path = \"output6.avi\"\n",
    "fourcc = cv2.VideoWriter_fourcc(*\"XVID\")\n",
    "out = cv2.VideoWriter(output_video_path, fourcc, fps, (win_size, win_size))\n",
    "\n",
    "# Начальные координаты\n",
    "x, y = 0, 0\n",
    "direction = \"diagonal\"\n",
    "\n",
    "# Генерация кадров\n",
    "for _ in range(num_frames):\n",
    "    # Вырезаем окно из изображения\n",
    "    cropped = image[y:y + win_size, x:x + win_size]\n",
    "    \n",
    "    # Проверка, что окно корректного размера\n",
    "    if cropped.shape[:2] == (win_size, win_size):\n",
    "        out.write(cropped)\n",
    "\n",
    "    # Логика движения по диагонали и кругу\n",
    "    if direction == \"diagonal\":\n",
    "        x += step\n",
    "        y += step\n",
    "        if x + win_size >= w or y + win_size >= h:\n",
    "            x = min(x, w - win_size)\n",
    "            y = min(y, h - win_size)\n",
    "            direction = \"left\"\n",
    "    elif direction == \"left\":\n",
    "        x -= step\n",
    "        if x <= 0:\n",
    "            x = 0\n",
    "            direction = \"up\"\n",
    "    elif direction == \"up\":\n",
    "        y -= step\n",
    "        if y <= 0:\n",
    "            y = 0\n",
    "            direction = \"right\"\n",
    "    elif direction == \"right\":\n",
    "        x += step\n",
    "        if x + win_size >= w:\n",
    "            x = w - win_size\n",
    "            direction = \"down\"\n",
    "    elif direction == \"down\":\n",
    "        y += step\n",
    "        if y + win_size >= h:\n",
    "            y = h - win_size\n",
    "            direction = \"diagonal\"  # Повторяем \n",
    "\n",
    "# Закрываем видеофайл\n",
    "out.release()\n",
    "\n",
    "print(\"Видео успешно создано!\")\n"
   ]
  },
  {
   "cell_type": "code",
   "execution_count": null,
   "metadata": {},
   "outputs": [],
   "source": []
  },
  {
   "cell_type": "code",
   "execution_count": null,
   "metadata": {},
   "outputs": [],
   "source": []
  },
  {
   "cell_type": "code",
   "execution_count": null,
   "metadata": {},
   "outputs": [],
   "source": []
  },
  {
   "cell_type": "code",
   "execution_count": null,
   "metadata": {},
   "outputs": [],
   "source": []
  },
  {
   "cell_type": "code",
   "execution_count": null,
   "metadata": {},
   "outputs": [],
   "source": []
  },
  {
   "cell_type": "code",
   "execution_count": null,
   "metadata": {},
   "outputs": [],
   "source": []
  }
 ],
 "metadata": {
  "kernelspec": {
   "display_name": "rapids-25.02",
   "language": "python",
   "name": "python3"
  },
  "language_info": {
   "codemirror_mode": {
    "name": "ipython",
    "version": 3
   },
   "file_extension": ".py",
   "mimetype": "text/x-python",
   "name": "python",
   "nbconvert_exporter": "python",
   "pygments_lexer": "ipython3",
   "version": "3.12.9"
  }
 },
 "nbformat": 4,
 "nbformat_minor": 2
}
